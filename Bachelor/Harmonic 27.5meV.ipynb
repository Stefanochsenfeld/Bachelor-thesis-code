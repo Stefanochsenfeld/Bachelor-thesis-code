{
 "cells": [
  {
   "cell_type": "code",
   "execution_count": null,
   "metadata": {},
   "outputs": [],
   "source": [
    "import numpy as np\n",
    "import matplotlib.pyplot as plt\n",
    "import matplotlib.animation\n",
    "from IPython.display import HTML\n",
    "from numba import jit, types\n",
    "from scipy.sparse import diags\n",
    "from scipy.integrate import quad\n",
    "matplotlib.rcParams['animation.embed_limit'] = 2**128\n",
    "\n",
    "from Wave_func_propagation import *\n",
    "from Animation_func import *\n",
    "from Transmiton_prob import *\n",
    "from Fourier_transform import *"
   ]
  },
  {
   "cell_type": "code",
   "execution_count": null,
   "metadata": {},
   "outputs": [],
   "source": [
    "elementary_charge = 1.602176634e-19\n",
    "hbar = 1.054571817e-34 # J s\n",
    "m = 9.1093837015e-31 # kg\n",
    "#m = 0.510998950e6\n",
    "Energi_init = 27.5e-3 * elementary_charge# J\n",
    "sigma_x = 200e-10\n",
    "x_s = 40e-8\n",
    "k_0 = np.sqrt(2*m*Energi_init)/hbar\n",
    "\n",
    "L = 1200e-9\n",
    "\n",
    "well_size = 6e-9\n",
    "barrier_size = 1.2e-9\n",
    "barrier_hight = 90e-3*elementary_charge\n",
    "\n",
    "K = 15\n",
    "C = 0.005"
   ]
  },
  {
   "cell_type": "code",
   "execution_count": null,
   "metadata": {},
   "outputs": [],
   "source": [
    "# @jit\n",
    "def Harmonic_Two_Potential_Barrier(x_axis, dx, time, Potential):\n",
    "\n",
    "    #pot = np.zeros((len(time), len(x_axis)))\n",
    "    pot = np.zeros(len(x_axis))\n",
    "    middel = len(x_axis)/2 *dx\n",
    "    barrier = Potential[0]\n",
    "    well = Potential[1]\n",
    "\n",
    "    left_edge_left = middel - (well/2 + barrier)\n",
    "    righ_edge_left = middel - (well/2)\n",
    "    left_edge_righ = middel + (well/2)\n",
    "    righ_edge_righ = middel + (well/2 + barrier)\n",
    "\n",
    "    righ_edge_righ_i = np.searchsorted(x_axis, righ_edge_righ, side='right')\n",
    "    left_edge_righ_i = np.searchsorted(x_axis, left_edge_righ, side='right')\n",
    "    righ_edge_left_i = np.searchsorted(x_axis, righ_edge_left, side='right')\n",
    "    left_edge_left_i = np.searchsorted(x_axis, left_edge_left, side='right')\n",
    "\n",
    "    pot[left_edge_left_i : righ_edge_left_i], pot[left_edge_righ_i : righ_edge_righ_i] = Potential[2], Potential[2]\n",
    "\n",
    "\n",
    "    return pot, Potential[2]\n",
    "\n",
    "\n",
    "# Potential_size = np.array([barrier_size, well_size, barrier_hight,5e-3 * elementary_charge,5e-3 * elementary_charge])\n",
    "# N_x = 15*int(2*k_0*L) + 1 \n",
    "# dx = L/(N_x-1)\n",
    "# v_g = hbar * k_0/m\n",
    "# x_axis = np.linspace(0.0, L, N_x, dtype=np.float64)\n",
    "\n",
    "# dt = 0.1 * hbar / ((hbar**2/(2*m*dx**2))+Potential_size[2])\n",
    "# T = 1.4*L/(2*v_g)\n",
    "# N_t = int(T/dt)\n",
    "# time =  np.linspace(0,T,N_t)\n",
    "\n",
    "# pot, v_max = Harmonic_Two_Potential_Barrier(x_axis, dx, time[-1], Potential_size)\n",
    "\n",
    "# plt.figure(figsize=(10,5))\n",
    "# plt.title('The static Potential', fontsize=20)\n",
    "# plt.plot(x_axis,pot, label = 'Potential')\n",
    "# plt.xlim(895e-9,905e-9)\n",
    "# plt.xlabel('Lenght/ ${\\mu}m$', fontsize=15)\n",
    "# plt.ylabel('Potential/${eV}$', fontsize=15)\n",
    "# plt.legend(shadow=True, loc='upper right')\n",
    "# plt.show()"
   ]
  },
  {
   "cell_type": "code",
   "execution_count": null,
   "metadata": {},
   "outputs": [
    {
     "name": "stdout",
     "output_type": "stream",
     "text": [
      "6.50410587571749e-09\n"
     ]
    }
   ],
   "source": [
    "def Haromnic_ocs_set_up(n, hbar, mass, well):\n",
    "\n",
    "    E_resonance = (n*np.pi*hbar)**2 / (2*mass * well**2)\n",
    "\n",
    "    omega = (1e-3*elementary_charge) / hbar\n",
    "    V1 = 36e-3 * elementary_charge\n",
    "\n",
    "    phase_shift = 0#np.pi\n",
    "\n",
    "    return E_resonance, omega, V1, phase_shift\n",
    "print((3*np.pi*hbar)/np.sqrt(2*m*80e-3*elementary_charge))\n",
    "\n",
    "# new omega must be around 30.700000000000003 meV\n",
    "# new V1 must be around 1 meV"
   ]
  },
  {
   "cell_type": "code",
   "execution_count": null,
   "metadata": {},
   "outputs": [
    {
     "name": "stdout",
     "output_type": "stream",
     "text": [
      "41.7811291284373 1519267448809.5105\n"
     ]
    }
   ],
   "source": [
    "E_resonance, omega, V1, phase_shift = Haromnic_ocs_set_up(2, hbar, m, well_size)\n",
    "print(E_resonance/elementary_charge*1e3,omega)\n",
    "\n",
    "Potential_size = np.array([barrier_size, well_size, barrier_hight, V1, omega, phase_shift])\n"
   ]
  },
  {
   "cell_type": "code",
   "execution_count": null,
   "metadata": {},
   "outputs": [],
   "source": [
    "Psi_t1, psi_imag_t1, psi_real_t1, x, dx, T, N_t, harm_pot_animat = Psi_propagation(Psi_initial, Harmonic_Two_Potential_Barrier, sigma_x, \n",
    "                                                                                        x_s, hbar, m, L, k_0, K, C, Potential_size, t_dep_pot=True)\n",
    "\n",
    "a,b,c = probability_density(Psi_t1, -1, dx, Potential_size, x)\n",
    "print('Transmission probability is:',b*100,'%')"
   ]
  },
  {
   "cell_type": "code",
   "execution_count": null,
   "metadata": {},
   "outputs": [],
   "source": [
    "\n",
    "\n",
    "probability_tot, normalisation_trans, normalisation_reflec = probability_density(Psi_t1, -1, dx, Potential_size, x)\n",
    "\n",
    "a,b,c = probability_density(Psi_t1, -1, dx, Potential_size, x)\n",
    "print('Transmission probability is:',b*100,'%')\n",
    "\n",
    "print(harm_pot_animat.shape)\n",
    "ani = animate_system(elementary_charge,x, harm_pot_animat, np.abs(Psi_t1), 6.5e23, title='Transmission for 2 barrier harmonic potential',\n",
    "                      limits = [-0.01e-6,1.21e-6, -15, 10000], t_dep_pot=True)\n",
    "# ani.save('Transmission for 2 barrier harmonic potential.gif', writer='imagemagick')\n",
    "HTML(ani.to_jshtml())\n"
   ]
  },
  {
   "cell_type": "code",
   "execution_count": null,
   "metadata": {},
   "outputs": [],
   "source": [
    "plt.plot(x,np.abs(Psi_t1[-1])**2)\n",
    "# plt.xlim(0.20e-6,0.5e-6)\n",
    "# plt.ylim(0,3e6)\n"
   ]
  },
  {
   "cell_type": "code",
   "execution_count": null,
   "metadata": {},
   "outputs": [],
   "source": [
    "plt.figure(figsize=(10,5))\n",
    "plt.plot(x, harm_pot_animat[-1]/elementary_charge*1000, label = 'Potential')\n",
    "plt.xlim(595e-9,606e-9)\n",
    "plt.title('The static Potential', fontsize=20)\n",
    "plt.xlabel('Lenght/ ${\\mu}m$', fontsize=15)\n",
    "plt.ylabel('Potential/${eV}$', fontsize=15)\n",
    "plt.legend(shadow=True, loc='upper right')\n",
    "plt.ylim(-40,40)\n",
    "plt.show()"
   ]
  },
  {
   "cell_type": "code",
   "execution_count": null,
   "metadata": {},
   "outputs": [],
   "source": [
    "def transmition_for_V12(pot_barrier, V1, sigma_x, x_s, hbar, m, L, k, barrier_size, well_size, barrier_hight, omega, phase):\n",
    "\n",
    "    transmition_probabilitis = np.zeros(len(V1))\n",
    "\n",
    "    for i in range(len(V1)):\n",
    "        print('Round:',i+1)\n",
    "        pot_size = np.array([barrier_size, well_size, barrier_hight, V1[i], omega, phase])\n",
    "\n",
    "        Psi_t, psi_imag_t, psi_real_t, x_axis, dx, T, N_t, harm_pot_animat  = Psi_propagation(Psi_initial, pot_barrier,  sigma_x, x_s, hbar,\n",
    "                                                                              m, L, k, pot_size, t_dep_pot=True)\n",
    "\n",
    "        probability_tot, transmition_probabilitis[i], normalisation_reflec = probability_density(Psi_t, -1, dx, pot_size, x_axis)\n",
    "        \n",
    "\n",
    "    return transmition_probabilitis\n",
    "\n",
    "amplitudes = np.arange(0.038,0.04,1e-3)\n",
    "print(amplitudes.shape)\n",
    "amplitudes = amplitudes * elementary_charge\n",
    "\n",
    "transmiton_2_barier_V1 = transmition_for_V12(Harmonic_Two_Potential_Barrier, amplitudes,  sigma_x, x_s, hbar, m, L, k_0, barrier_size, well_size,\n",
    "                                            barrier_hight, omega, phase_shift)"
   ]
  },
  {
   "cell_type": "code",
   "execution_count": null,
   "metadata": {},
   "outputs": [],
   "source": [
    "# plt.plot(amplitudes/elementary_charge, transmiton_2_barier_V1*100)\n",
    "# plt.title('Transmition probaility for $\\omega=1meV$')\n",
    "# plt.xlabel('V1 from 0-90meV')\n",
    "# plt.ylabel('Transmission probability/%')\n",
    "print(np.max(transmiton_2_barier_V1),transmiton_2_barier_V1[0],amplitudes[1]/elementary_charge)\n",
    "print(np.where(transmiton_2_barier_V1==np.max(transmiton_2_barier_V1)))"
   ]
  },
  {
   "cell_type": "code",
   "execution_count": null,
   "metadata": {},
   "outputs": [],
   "source": [
    "def Fourier_transformed1(Wave, Desired_t, Dx, hbar, mass, x_axis, pot_size):\n",
    "\n",
    "    left_barier, right_barier = int(len(x_axis)/2  - pot_size[0]/Dx - pot_size[1]/(Dx*2)), int(len(x_axis)/2  + pot_size[0]/Dx + pot_size[1]/(Dx*2))\n",
    "    x_reflected = x_axis[:left_barier]\n",
    "    x_transmited = x_axis[right_barier:]\n",
    "    # print(int(len(x_axis)/2 - 500), left_barier*dx, right_barier*dx)\n",
    "\n",
    "    Transformed_total = np.fft.fft(Wave[Desired_t,:],n=1000000)\n",
    "    Transformed_reflected = np.fft.fft(Wave[Desired_t,:left_barier],n=1000000)\n",
    "    Transformed_transmited = np.fft.fft(Wave[Desired_t,right_barier:],n=1000000)\n",
    "\n",
    "    N = len(Transformed_total)\n",
    "    freq = np.fft.fftfreq(N, Dx)\n",
    "\n",
    "    firstNegInd = np.argmax(freq < 0)\n",
    "    # freq_r = freq[firstNegInd:]\n",
    "    freq = freq[:firstNegInd]\n",
    "    Transformed_reflected = Transformed_reflected[::-1]\n",
    "    Transformed_reflected =  Transformed_reflected[:firstNegInd]\n",
    "    Transformed_transmited = Transformed_transmited[:firstNegInd]\n",
    "\n",
    "    '''\n",
    "    k_vec_sum_left = 0\n",
    "    k_vec_sum_right = 0\n",
    "    n = 0  \n",
    "     \n",
    "    test_count = 0\n",
    "    test = 0\n",
    "    #for i in range(0,int(N/2),1):\n",
    "    for i in range(len(Transformed_reflected)):\n",
    "        if np.abs(Transformed_reflected[i]) > 500:\n",
    "\n",
    "            n +=1\n",
    "            k_vec_sum_left += np.abs(freq[i])\n",
    "\n",
    "    excepted_value_k_left = -(k_vec_sum_left*2*np.pi)/n\n",
    "    Excpeted_Energi_left = (hbar * excepted_value_k_left)**2/(2*mass)\n",
    "    #print(excepted_value_k_left, 'left', np.median(freq), Excpeted_Energi_left)\n",
    "\n",
    "\n",
    "    \n",
    "    n_righ = 0\n",
    "    for i in range(len(Transformed_transmited)):\n",
    "        if np.abs(Transformed_transmited[i]) > 1200:\n",
    "\n",
    "            n_righ +=1\n",
    "            k_vec_sum_right += (freq[i])\n",
    "        \n",
    "    if n_righ != 0:\n",
    "        excepted_value_k_right = (k_vec_sum_right*2*np.pi)/n_righ\n",
    "        Excpeted_Energi_right = (hbar * excepted_value_k_right)**2/(2*mass) \n",
    "        #print(excepted_value_k_right, 'right')\n",
    "\n",
    "    else:\n",
    "        Excpeted_Energi_right, excepted_value_k_right = 0.0, 0.0\n",
    "\n",
    "    \n",
    "\n",
    "    Excpeted_Energi_tot = np.mean([Excpeted_Energi_right, Excpeted_Energi_left]) #(hbar * (excepted_value_k_left + excepted_value_k_right))**2/(2*mass)\n",
    "    #print((hbar * np.mean([excepted_value_k_right, excepted_value_k_left]))**2/(2*mass),'kkkkkkkkkk')\n",
    "\n",
    "\n",
    "\n",
    "    n = 0\n",
    "    k_vec_sum_total = 0\n",
    "    d = np.where(Transformed_total==np.max(Transformed_total))[0][0]\n",
    "    print(d)\n",
    "    for i in range(len(Transformed_total)):\n",
    "        if np.abs(Transformed_total[i]) > 1:\n",
    "\n",
    "            n +=1\n",
    "            k_vec_sum_total += (freq[i])\n",
    "\n",
    "    excepted_value_k = (k_vec_sum_total*2*np.pi)/n\n",
    "    Excpeted_Energi = (hbar * excepted_value_k)**2/(2*mass)\n",
    "    # print(Excpeted_Energi,'total')\n",
    "    if n_righ !=0:\n",
    "        print('Excpeted Energy tot:', Excpeted_Energi_tot, 'Excpeted Energy left:', Excpeted_Energi_left,'Excpeted Energy right:', Excpeted_Energi_right)    \n",
    "    else:\n",
    "        print('Excpeted Energy tot:', Excpeted_Energi, 'Excpeted Energy left:', Excpeted_Energi_left,'Excpeted Energy right:', Excpeted_Energi_right)    \n",
    "    '''\n",
    "    \n",
    "    freq = freq*2*np.pi\n",
    "\n",
    "    \n",
    "    return Transformed_reflected, Transformed_transmited, Transformed_total, freq#, Excpeted_Energi_tot"
   ]
  },
  {
   "cell_type": "code",
   "execution_count": null,
   "metadata": {},
   "outputs": [],
   "source": [
    "Transformed_reflected, Transformed_transmited, Transformed_total_initial, freq = Fourier_transformed(Psi_t1, 0 , dx , hbar, m, x, Potential_size)\n",
    "Transformed_reflected, Transformed_transmited, Transformed_total, freq = Fourier_transformed(Psi_t1, -1 , dx , hbar, m, x, Potential_size)\n",
    "print(Energi_init, k_0)\n"
   ]
  },
  {
   "cell_type": "code",
   "execution_count": null,
   "metadata": {},
   "outputs": [],
   "source": [
    "# Energi_reflected = (Transformed_reflected * hbar)/(2 * m)**2\n",
    "# Energi_transmited = (Transformed_transmited * hbar)/(2 * m)**2\n",
    "Energi_specture = ( (freq)* hbar)**2/(2 * m)\n",
    "\n",
    "\n",
    "# fig, (ax1, ax2) = plt.subplots(1, 2, figsize=(10,7))\n",
    "# ax1.set_xlim(0, 1e-1)\n",
    "# ax1.plot(np.abs(Energi_specture)/elementary_charge, np.abs(Transformed_reflected)**2, label = 'Reflected')\n",
    "# ax2.set_xlim(0, 1e-1)\n",
    "# ax2.plot(Energi_specture/elementary_charge, np.abs(Transformed_transmited)**2, label = 'Transmited')\n",
    "\n",
    "\n",
    "plt.figure(figsize=(17,7))\n",
    "#plt.plot(freq, Transformed_total, label = 'Total')\n",
    "plt.title('Energy Spectrum for the Harmonic System${(V_1 = 36meV,\\hbar\\omega =1meV)}$', fontsize= 22)\n",
    "plt.plot(np.abs(Energi_specture)/elementary_charge*1e3, np.abs(Transformed_reflected)**2, linewidth=4, label = 'Reflected')\n",
    "plt.plot(Energi_specture/elementary_charge*1e3, np.abs(Transformed_transmited)**2, label = 'Transmitted')\n",
    "plt.p\n",
    "plt.xlim(20, 50)\n",
    "# plt.ylim(0,2e10)\n",
    "plt.xlabel('Energi/meV', fontsize=15)\n",
    "# plt.ylabel('How much of each Energi', fontsize=15)\n",
    "\n",
    "plt.legend(shadow=True, loc='upper right', prop={'size': 15})\n",
    "plt.show()"
   ]
  },
  {
   "cell_type": "code",
   "execution_count": null,
   "metadata": {},
   "outputs": [],
   "source": [
    "Transformed_reflected, Transformed_transmited, Transformed_total, freq = Fourier_transformed(Psi_t1, -1 , dx , hbar, m, x, Potential_size)\n",
    "print(Energi_init, k_0)"
   ]
  }
 ],
 "metadata": {
  "kernelspec": {
   "display_name": "base",
   "language": "python",
   "name": "python3"
  },
  "language_info": {
   "codemirror_mode": {
    "name": "ipython",
    "version": 3
   },
   "file_extension": ".py",
   "mimetype": "text/x-python",
   "name": "python",
   "nbconvert_exporter": "python",
   "pygments_lexer": "ipython3",
   "version": "3.8.8"
  },
  "orig_nbformat": 4
 },
 "nbformat": 4,
 "nbformat_minor": 2
}
